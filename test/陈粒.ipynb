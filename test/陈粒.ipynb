{
 "cells": [
  {
   "cell_type": "code",
   "execution_count": 1,
   "metadata": {
    "collapsed": true
   },
   "outputs": [],
   "source": [
    "import sys\n",
    "import random\n",
    "sys.path.append(\"..\")\n",
    "from data import Lyric\n",
    "from utils import model"
   ]
  },
  {
   "cell_type": "code",
   "execution_count": 2,
   "metadata": {},
   "outputs": [
    {
     "name": "stderr",
     "output_type": "stream",
     "text": [
      "Building prefix dict from the default dictionary ...\n",
      "Loading model from cache /tmp/jieba.cache\n",
      "Loading model cost 0.422 seconds.\n",
      "Prefix dict has been built succesfully.\n"
     ]
    }
   ],
   "source": [
    "dataset = Lyric(batch_size=128, fix_length=32, target_vocab_size=10000)\n",
    "net = model(dataset, model_name=\"陈粒_50.pkl\", train=False)"
   ]
  },
  {
   "cell_type": "code",
   "execution_count": 3,
   "metadata": {
    "collapsed": true
   },
   "outputs": [],
   "source": [
    "def generator(title, total_sentence=20):\n",
    "    encoder_input = dataset.process(title)\n",
    "    song = []\n",
    "    for i in range(total_sentence):\n",
    "        s = []\n",
    "        output = net.predict(encoder_input)\n",
    "        word = dataset.logist2word(output)[0]\n",
    "        if word[0] in dataset.itos[:20] + [s[0] for s in song]:\n",
    "            word = dataset.logist2word(output, topn=3)\n",
    "            word = random.choice(word)\n",
    "        next_input = dataset.stoi[word]\n",
    "        s.append(word)\n",
    "        while word != \"<eos>\":\n",
    "            output = net.next(next_input)\n",
    "            word = dataset.logist2word(output)[0]\n",
    "            next_input = dataset.stoi[word]\n",
    "            s.append(word)\n",
    "        song.append(\"\".join(s[:-1]))\n",
    "        encoder_input = dataset.process(\"\".join(s[:-1]))\n",
    "    return song"
   ]
  },
  {
   "cell_type": "code",
   "execution_count": 6,
   "metadata": {},
   "outputs": [
    {
     "name": "stderr",
     "output_type": "stream",
     "text": [
      "/home/albert/anaconda3/lib/python3.6/site-packages/torch/nn/functional.py:1374: UserWarning: nn.functional.tanh is deprecated. Use torch.tanh instead.\n",
      "  warnings.warn(\"nn.functional.tanh is deprecated. Use torch.tanh instead.\")\n"
     ]
    },
    {
     "data": {
      "text/plain": [
       "['如果你来过能不能找到我',\n",
       " '我却没说过',\n",
       " '我是真的的错的错的错的都没发生过',\n",
       " '感情是谁都不明白',\n",
       " '你在分心的时候',\n",
       " '一句声音你煎熬',\n",
       " '不敢听一句',\n",
       " '不愿听',\n",
       " '听我说说笑笑',\n",
       " '对我眨眼睛',\n",
       " '不灭的心',\n",
       " '你是我梦里',\n",
       " '虚妄真实',\n",
       " '午夜霓虹',\n",
       " '胃里',\n",
       " '苍凉是你',\n",
       " '炙热是你',\n",
       " '填满掏空',\n",
       " '会不会不同',\n",
       " '当我说你能变成你']"
      ]
     },
     "execution_count": 6,
     "metadata": {},
     "output_type": "execute_result"
    }
   ],
   "source": [
    "song = generator(\"小半\")\n",
    "song"
   ]
  },
  {
   "cell_type": "code",
   "execution_count": 7,
   "metadata": {
    "scrolled": false
   },
   "outputs": [
    {
     "name": "stderr",
     "output_type": "stream",
     "text": [
      "/home/albert/anaconda3/lib/python3.6/site-packages/torch/nn/functional.py:1374: UserWarning: nn.functional.tanh is deprecated. Use torch.tanh instead.\n",
      "  warnings.warn(\"nn.functional.tanh is deprecated. Use torch.tanh instead.\")\n"
     ]
    },
    {
     "data": {
      "text/plain": [
       "['盼我疯魔还盼我来现在',\n",
       " '愿我等我等我等我等我',\n",
       " '忘记这一生里',\n",
       " '让我占有你',\n",
       " '撕碎你然后像风握在我手里',\n",
       " '抱着我像空气',\n",
       " '想把你收集',\n",
       " '泡你在哪一个',\n",
       " '你是我的我',\n",
       " '却没能让你走',\n",
       " '世界的路都有意义',\n",
       " '而我是你的',\n",
       " '多少一天',\n",
       " '都是你的背影',\n",
       " '你的每个吻',\n",
       " '填满我的心',\n",
       " '世界那么大',\n",
       " '你是我梦里',\n",
       " '虚妄真实',\n",
       " '午夜霓虹']"
      ]
     },
     "execution_count": 7,
     "metadata": {},
     "output_type": "execute_result"
    }
   ],
   "source": [
    "song = generator(\"易燃易爆炸\")\n",
    "song"
   ]
  },
  {
   "cell_type": "code",
   "execution_count": 19,
   "metadata": {},
   "outputs": [
    {
     "name": "stderr",
     "output_type": "stream",
     "text": [
      "/home/albert/anaconda3/lib/python3.6/site-packages/torch/nn/functional.py:1374: UserWarning: nn.functional.tanh is deprecated. Use torch.tanh instead.\n",
      "  warnings.warn(\"nn.functional.tanh is deprecated. Use torch.tanh instead.\")\n"
     ]
    },
    {
     "data": {
      "text/plain": [
       "['光落在你脸上',\n",
       " '可爱一如往常',\n",
       " '好把别人说完',\n",
       " '我只属于你在我的身边',\n",
       " '被你的过去',\n",
       " '越让自己离',\n",
       " '让全世界都停了',\n",
       " '我是你的最美丽的',\n",
       " '我们都在这里',\n",
       " '为你而活',\n",
       " '世界如大海',\n",
       " '全是我',\n",
       " '真的是我',\n",
       " '明白是谁在谁的错了',\n",
       " '来一首情歌',\n",
       " '唱一首怪情歌',\n",
       " '送给自由的你',\n",
       " '我陪你来庆祝',\n",
       " '你与我一起走',\n",
       " '即使这漫长人生']"
      ]
     },
     "execution_count": 19,
     "metadata": {},
     "output_type": "execute_result"
    }
   ],
   "source": [
    "song = generator(\"光\")\n",
    "song"
   ]
  },
  {
   "cell_type": "code",
   "execution_count": 12,
   "metadata": {},
   "outputs": [
    {
     "name": "stderr",
     "output_type": "stream",
     "text": [
      "/home/albert/anaconda3/lib/python3.6/site-packages/torch/nn/functional.py:1374: UserWarning: nn.functional.tanh is deprecated. Use torch.tanh instead.\n",
      "  warnings.warn(\"nn.functional.tanh is deprecated. Use torch.tanh instead.\")\n"
     ]
    },
    {
     "data": {
      "text/plain": [
       "['遥远的阳光',\n",
       " '快乐的背影',\n",
       " '啊让我来庆祝',\n",
       " '你在我脸上',\n",
       " '我在这里',\n",
       " '温柔的变幻',\n",
       " '梦里你的背影',\n",
       " '你走去了走了走了',\n",
       " '爱人里走了',\n",
       " '往事如风',\n",
       " '梦里我愿抬头看',\n",
       " '让我占有你占有你最好',\n",
       " '我要我等你走得很久',\n",
       " '只愿你相信',\n",
       " '你的心再次推',\n",
       " '如果我站在朝阳上',\n",
       " '我要逆的凉',\n",
       " '要什么把我做',\n",
       " '拿着你的名字',\n",
       " '都是片刻']"
      ]
     },
     "execution_count": 12,
     "metadata": {},
     "output_type": "execute_result"
    }
   ],
   "source": [
    "song = generator(\"成都\")\n",
    "song"
   ]
  },
  {
   "cell_type": "code",
   "execution_count": null,
   "metadata": {
    "collapsed": true
   },
   "outputs": [],
   "source": []
  }
 ],
 "metadata": {
  "kernelspec": {
   "display_name": "Python 3",
   "language": "python",
   "name": "python3"
  },
  "language_info": {
   "codemirror_mode": {
    "name": "ipython",
    "version": 3
   },
   "file_extension": ".py",
   "mimetype": "text/x-python",
   "name": "python",
   "nbconvert_exporter": "python",
   "pygments_lexer": "ipython3",
   "version": "3.6.8"
  }
 },
 "nbformat": 4,
 "nbformat_minor": 2
}
