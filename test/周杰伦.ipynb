{
 "cells": [
  {
   "cell_type": "code",
   "execution_count": 1,
   "metadata": {
    "collapsed": true
   },
   "outputs": [],
   "source": [
    "import sys\n",
    "import random\n",
    "sys.path.append(\"..\")\n",
    "from data import Lyric\n",
    "from utils import model, attention_visualization"
   ]
  },
  {
   "cell_type": "code",
   "execution_count": 2,
   "metadata": {
    "scrolled": true
   },
   "outputs": [
    {
     "name": "stderr",
     "output_type": "stream",
     "text": [
      "Building prefix dict from the default dictionary ...\n",
      "Loading model from cache /tmp/jieba.cache\n",
      "Loading model cost 0.442 seconds.\n",
      "Prefix dict has been built succesfully.\n"
     ]
    }
   ],
   "source": [
    "dataset = Lyric(batch_size=128, fix_length=32, target_vocab_size=10000)\n",
    "net = model(dataset, model_name=\"周杰伦_50.pkl\", train=False)"
   ]
  },
  {
   "cell_type": "code",
   "execution_count": 5,
   "metadata": {
    "collapsed": true
   },
   "outputs": [],
   "source": [
    "def generator(title, total_sentence=16):\n",
    "    encoder_input = dataset.process(title)\n",
    "    song = []\n",
    "    for i in range(total_sentence):\n",
    "        s = []\n",
    "        output = net.predict(encoder_input)\n",
    "        word = dataset.logist2word(output)[0]\n",
    "        if word in dataset.itos[:30]:\n",
    "            word = dataset.logist2word(output, topn=3)\n",
    "            word = random.choice(word)\n",
    "        next_input = dataset.stoi[word]\n",
    "        s.append(word)\n",
    "        while word != \"<eos>\":\n",
    "            output = net.next(next_input)\n",
    "            word = dataset.logist2word(output)[0]\n",
    "            next_input = dataset.stoi[word]\n",
    "            s.append(word)\n",
    "        song.append(\"\".join(s[:-1]))\n",
    "        encoder_input = dataset.process(\"\".join(s[:-1]))\n",
    "    return song"
   ]
  },
  {
   "cell_type": "code",
   "execution_count": 6,
   "metadata": {
    "scrolled": false
   },
   "outputs": [
    {
     "name": "stderr",
     "output_type": "stream",
     "text": [
      "/home/albert/anaconda3/lib/python3.6/site-packages/torch/nn/functional.py:1374: UserWarning: nn.functional.tanh is deprecated. Use torch.tanh instead.\n",
      "  warnings.warn(\"nn.functional.tanh is deprecated. Use torch.tanh instead.\")\n"
     ]
    },
    {
     "data": {
      "text/plain": [
       "['你说这一句很有夏天的感觉',\n",
       " '手中的夕阳是我的歌',\n",
       " '吹着我的心',\n",
       " '我是真的爱你',\n",
       " '因为我只爱你',\n",
       " '跟着你离开',\n",
       " '这日子太过',\n",
       " '这是我想要的',\n",
       " '让我爱上你',\n",
       " '我才会把你放在她怀抱',\n",
       " '你的世界根本我',\n",
       " '没有了时间抵抗',\n",
       " '你的微笑被时间播放',\n",
       " '我慢慢习惯每天',\n",
       " '我将你忘记了',\n",
       " '啊']"
      ]
     },
     "execution_count": 6,
     "metadata": {},
     "output_type": "execute_result"
    }
   ],
   "source": [
    "generator(\"窗外的麻雀在电线杆上多嘴\")"
   ]
  },
  {
   "cell_type": "code",
   "execution_count": 60,
   "metadata": {
    "scrolled": false
   },
   "outputs": [
    {
     "name": "stderr",
     "output_type": "stream",
     "text": [
      "/home/albert/anaconda3/lib/python3.6/site-packages/torch/nn/functional.py:1374: UserWarning: nn.functional.tanh is deprecated. Use torch.tanh instead.\n",
      "  warnings.warn(\"nn.functional.tanh is deprecated. Use torch.tanh instead.\")\n"
     ]
    },
    {
     "data": {
      "text/plain": [
       "['远方的爱情在很远的想念',\n",
       " '当我遇见你是一种很简单的人',\n",
       " '就算我是你身边那是一场悲剧',\n",
       " '你的脸已经在身边绕我几条脸',\n",
       " '帮我的舞蹈还能让我感动落泪',\n",
       " '如果可以我就会让你知道',\n",
       " '只想要你说我说',\n",
       " '有我的未来',\n",
       " '有不同的不同',\n",
       " '我们一定要的快乐',\n",
       " '我就是很喜欢的猫跳着很想追',\n",
       " '因为我连自己都会知道他们都要自己的地方',\n",
       " '妈妈长大后我还能写个什么',\n",
       " '为什么我一直在等你妈手里好',\n",
       " '没关系我是个穷了',\n",
       " '没有了的',\n",
       " '才是我的',\n",
       " '是我流了眼泪',\n",
       " '证明了我是谁是谁',\n",
       " '送给你我永远不是我梦']"
      ]
     },
     "execution_count": 60,
     "metadata": {},
     "output_type": "execute_result"
    }
   ],
   "source": [
    "song = generator(\"花海晴天\")\n",
    "song"
   ]
  },
  {
   "cell_type": "code",
   "execution_count": 23,
   "metadata": {},
   "outputs": [
    {
     "name": "stderr",
     "output_type": "stream",
     "text": [
      "/home/albert/anaconda3/lib/python3.6/site-packages/torch/nn/functional.py:1374: UserWarning: nn.functional.tanh is deprecated. Use torch.tanh instead.\n",
      "  warnings.warn(\"nn.functional.tanh is deprecated. Use torch.tanh instead.\")\n"
     ]
    },
    {
     "data": {
      "text/plain": [
       "['冷咖啡离开了杯垫',\n",
       " '一壶再喝一喝再喝一笑',\n",
       " '沉默的感觉',\n",
       " '他的生活已经不适合',\n",
       " '他的生活太多太多太多',\n",
       " '怎么可以过的都不多',\n",
       " '你的微笑让我现在的依赖',\n",
       " '连我也都不对',\n",
       " '你会开始离开我的后悔',\n",
       " '你说我比你多',\n",
       " '你会会一直知道',\n",
       " '我可以对你说',\n",
       " '距离都是一样',\n",
       " '你会慢慢地出现',\n",
       " '战就是冰的雾',\n",
       " '是我的脸',\n",
       " '原来你是我的谁',\n",
       " '在我的心里面',\n",
       " '你我做了',\n",
       " '能够']"
      ]
     },
     "execution_count": 23,
     "metadata": {},
     "output_type": "execute_result"
    }
   ],
   "source": [
    "song = generator(\"不能说的秘密\")\n",
    "song"
   ]
  },
  {
   "cell_type": "code",
   "execution_count": 24,
   "metadata": {},
   "outputs": [
    {
     "name": "stderr",
     "output_type": "stream",
     "text": [
      "/home/albert/anaconda3/lib/python3.6/site-packages/torch/nn/functional.py:1374: UserWarning: nn.functional.tanh is deprecated. Use torch.tanh instead.\n",
      "  warnings.warn(\"nn.functional.tanh is deprecated. Use torch.tanh instead.\")\n"
     ]
    },
    {
     "data": {
      "text/plain": [
       "['而我在等你的一切',\n",
       " '但我只想要把你忘记',\n",
       " '原来你我距离走得很远',\n",
       " '你说你的心我的心还牵着你的手',\n",
       " '风在天空上依旧让我带着你的骄傲',\n",
       " '像思念的形状一样闻',\n",
       " '那你在那世界里每天',\n",
       " '都在我一生停留',\n",
       " '一路我的天空',\n",
       " '它多再可以为谁而掉',\n",
       " '爱上不能不能再想',\n",
       " '座位的没有错',\n",
       " '只剩下钢琴陪他',\n",
       " '还在画面里人潮一直在等',\n",
       " '这不是逃避的难过',\n",
       " '还爱着我',\n",
       " '还是可以',\n",
       " '我想你是我才明白',\n",
       " '我所努力在等待你的表情',\n",
       " '那才微笑一直看不见']"
      ]
     },
     "execution_count": 24,
     "metadata": {},
     "output_type": "execute_result"
    }
   ],
   "source": [
    "song = generator(\"十年\")\n",
    "song"
   ]
  },
  {
   "cell_type": "code",
   "execution_count": 50,
   "metadata": {},
   "outputs": [
    {
     "name": "stderr",
     "output_type": "stream",
     "text": [
      "/home/albert/anaconda3/lib/python3.6/site-packages/torch/nn/functional.py:1374: UserWarning: nn.functional.tanh is deprecated. Use torch.tanh instead.\n",
      "  warnings.warn(\"nn.functional.tanh is deprecated. Use torch.tanh instead.\")\n"
     ]
    },
    {
     "data": {
      "text/plain": [
       "['一盏离愁的日出',\n",
       " '我在等待',\n",
       " '那拥抱的画面',\n",
       " '看着你慢慢的离开',\n",
       " '我知道就这样',\n",
       " '却不知道不能说的',\n",
       " '有你的香水跟我牵着你的手',\n",
       " '为你感动我的长发给你的温柔',\n",
       " '没有你离开到会',\n",
       " '在旁盘旋',\n",
       " '你在的世界都开始拉着',\n",
       " '我的爱情已经注定',\n",
       " '我弹琴设陷阱',\n",
       " '向你缓缓的逼近',\n",
       " '等你的感觉',\n",
       " '从不有的让我知道',\n",
       " '我的天空',\n",
       " '被雨淋在',\n",
       " '那喝了酒',\n",
       " '满天的星空']"
      ]
     },
     "execution_count": 50,
     "metadata": {},
     "output_type": "execute_result"
    }
   ],
   "source": [
    "song = generator(\"东风破\")\n",
    "song"
   ]
  },
  {
   "cell_type": "code",
   "execution_count": 57,
   "metadata": {
    "scrolled": false
   },
   "outputs": [
    {
     "name": "stderr",
     "output_type": "stream",
     "text": [
      "/home/albert/anaconda3/lib/python3.6/site-packages/torch/nn/functional.py:1374: UserWarning: nn.functional.tanh is deprecated. Use torch.tanh instead.\n",
      "  warnings.warn(\"nn.functional.tanh is deprecated. Use torch.tanh instead.\")\n"
     ]
    },
    {
     "data": {
      "text/plain": [
       "['我不要再想',\n",
       " '这会在一起',\n",
       " '牵着你的手经过那大地',\n",
       " '就在我的世界你就怎么隐藏',\n",
       " '我们的爱怎么都成了',\n",
       " '每次牵着你的手不走',\n",
       " '错在最后才是好',\n",
       " '没有雨太久',\n",
       " '只剩下钢琴陪我弹了一天',\n",
       " '睡着的风景里的你慢慢的慢慢',\n",
       " '你的嘴角清晰的影子还在我的',\n",
       " '思念在墙上吹',\n",
       " '静止在我的世界',\n",
       " '缺氧在风中',\n",
       " '让我爱上有你',\n",
       " '最爱现在都爱我',\n",
       " '你我没把我忘记',\n",
       " '你始终没有我回',\n",
       " '还是怎么说',\n",
       " '你说泪是雨']"
      ]
     },
     "execution_count": 57,
     "metadata": {},
     "output_type": "execute_result"
    }
   ],
   "source": [
    "song = generator(\"一千年以后\")\n",
    "song"
   ]
  }
 ],
 "metadata": {
  "kernelspec": {
   "display_name": "Python 3",
   "language": "python",
   "name": "python3"
  },
  "language_info": {
   "codemirror_mode": {
    "name": "ipython",
    "version": 3
   },
   "file_extension": ".py",
   "mimetype": "text/x-python",
   "name": "python",
   "nbconvert_exporter": "python",
   "pygments_lexer": "ipython3",
   "version": "3.6.8"
  }
 },
 "nbformat": 4,
 "nbformat_minor": 2
}
