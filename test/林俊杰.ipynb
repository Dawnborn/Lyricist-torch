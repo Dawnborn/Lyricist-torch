{
 "cells": [
  {
   "cell_type": "code",
   "execution_count": 1,
   "metadata": {
    "collapsed": true
   },
   "outputs": [],
   "source": [
    "import sys\n",
    "import random\n",
    "sys.path.append(\"..\")\n",
    "from data import Lyric\n",
    "from utils import model"
   ]
  },
  {
   "cell_type": "code",
   "execution_count": 2,
   "metadata": {},
   "outputs": [
    {
     "name": "stderr",
     "output_type": "stream",
     "text": [
      "Building prefix dict from the default dictionary ...\n",
      "Loading model from cache /tmp/jieba.cache\n",
      "Loading model cost 0.463 seconds.\n",
      "Prefix dict has been built succesfully.\n"
     ]
    }
   ],
   "source": [
    "dataset = Lyric(batch_size=128, fix_length=32, target_vocab_size=10000)\n",
    "net = model(dataset, model_name=\"林俊杰_50.pkl\", train=False)"
   ]
  },
  {
   "cell_type": "code",
   "execution_count": 3,
   "metadata": {
    "collapsed": true
   },
   "outputs": [],
   "source": [
    "def generator(title, total_sentence=20):\n",
    "    encoder_input = dataset.process(title)\n",
    "    song = []\n",
    "    for i in range(total_sentence):\n",
    "        s = []\n",
    "        output = net.predict(encoder_input)\n",
    "        word = dataset.logist2word(output)[0]\n",
    "        if word[0] in dataset.itos[:20] + [s[0] for s in song]:\n",
    "            word = dataset.logist2word(output, topn=3)\n",
    "            word = random.choice(word)\n",
    "        next_input = dataset.stoi[word]\n",
    "        s.append(word)\n",
    "        while word != \"<eos>\":\n",
    "            output = net.next(next_input)\n",
    "            word = dataset.logist2word(output)[0]\n",
    "            next_input = dataset.stoi[word]\n",
    "            s.append(word)\n",
    "        song.append(\"\".join(s[:-1]))\n",
    "        encoder_input = dataset.process(\"\".join(s[:-1]))\n",
    "    return song"
   ]
  },
  {
   "cell_type": "code",
   "execution_count": 4,
   "metadata": {
    "scrolled": false
   },
   "outputs": [
    {
     "name": "stderr",
     "output_type": "stream",
     "text": [
      "/home/albert/anaconda3/lib/python3.6/site-packages/torch/nn/functional.py:1374: UserWarning: nn.functional.tanh is deprecated. Use torch.tanh instead.\n",
      "  warnings.warn(\"nn.functional.tanh is deprecated. Use torch.tanh instead.\")\n"
     ]
    },
    {
     "data": {
      "text/plain": [
       "['像一篇童话诗',\n",
       " '她用知音的方式',\n",
       " '看我弹琴的样子',\n",
       " '从此以後我的脑海就只有一个名字',\n",
       " '唱什麽不一定要懂',\n",
       " '做音乐我让心放纵',\n",
       " '这一种加油人人都需要',\n",
       " '手牵手我们一起赛跑',\n",
       " '说好不见不散每分每秒守候你到老',\n",
       " '只想你的眼睛会不会会懂',\n",
       " '因为我的眼睛在你身边',\n",
       " '看星空看泪',\n",
       " '心事全都摊开',\n",
       " '就在这一刻',\n",
       " '都是我为你喔找回来',\n",
       " '人在那里',\n",
       " '是我把自己都一样被遗忘',\n",
       " '渴望被遗忘',\n",
       " '思念被忽略',\n",
       " '还是为谁辛苦']"
      ]
     },
     "execution_count": 4,
     "metadata": {},
     "output_type": "execute_result"
    }
   ],
   "source": [
    "song = generator(\"江南\")\n",
    "song"
   ]
  },
  {
   "cell_type": "code",
   "execution_count": 5,
   "metadata": {},
   "outputs": [
    {
     "name": "stderr",
     "output_type": "stream",
     "text": [
      "/home/albert/anaconda3/lib/python3.6/site-packages/torch/nn/functional.py:1374: UserWarning: nn.functional.tanh is deprecated. Use torch.tanh instead.\n",
      "  warnings.warn(\"nn.functional.tanh is deprecated. Use torch.tanh instead.\")\n"
     ]
    },
    {
     "data": {
      "text/plain": [
       "['假如把犯得起的错',\n",
       " '能错的都错过',\n",
       " '应该有那么懂得感情',\n",
       " '就在我的世界里我曾有的爱',\n",
       " '带着我的翅膀飞',\n",
       " '再高的我不要冷静',\n",
       " '如果你还没懂',\n",
       " '谁还记得我',\n",
       " '你我和我手',\n",
       " '带着我穿梭',\n",
       " '我的理想在这里',\n",
       " '有梦不难跟着我去闯',\n",
       " '独处不难用音乐作伴',\n",
       " '这玻璃反射着霓虹',\n",
       " '这街道璀璨着夜空',\n",
       " '爱是三万火',\n",
       " '让我这一个念头',\n",
       " '这样的生活需要',\n",
       " '我也会为你心跳',\n",
       " '在我醒来的地方']"
      ]
     },
     "execution_count": 5,
     "metadata": {},
     "output_type": "execute_result"
    }
   ],
   "source": [
    "song = generator(\"可惜没如果\")\n",
    "song"
   ]
  },
  {
   "cell_type": "code",
   "execution_count": 9,
   "metadata": {},
   "outputs": [
    {
     "name": "stderr",
     "output_type": "stream",
     "text": [
      "/home/albert/anaconda3/lib/python3.6/site-packages/torch/nn/functional.py:1374: UserWarning: nn.functional.tanh is deprecated. Use torch.tanh instead.\n",
      "  warnings.warn(\"nn.functional.tanh is deprecated. Use torch.tanh instead.\")\n"
     ]
    },
    {
     "data": {
      "text/plain": [
       "['梦它该该散了我的心',\n",
       " '回忆是我的情绪',\n",
       " '但你说要我放弃',\n",
       " '你的眼睛我的眼睛还没停',\n",
       " '我不明白你我很爱我',\n",
       " '你的项链在我身边',\n",
       " '陪伴著我过每一天',\n",
       " '不小心回到那一天',\n",
       " '都是最后的冲动',\n",
       " '还是不够慷慨',\n",
       " '最后的冲动无法放弃',\n",
       " '因为我能给一个人',\n",
       " '确定时间看我',\n",
       " '有我就在那片沙滩',\n",
       " '风也在我的这边',\n",
       " '你说那就是大地',\n",
       " '想不通是谁',\n",
       " '突然开始该明白',\n",
       " '让爱降落之后',\n",
       " '我们在你的眼里']"
      ]
     },
     "execution_count": 9,
     "metadata": {},
     "output_type": "execute_result"
    }
   ],
   "source": [
    "song = generator(\"夜的第七章\")\n",
    "song"
   ]
  },
  {
   "cell_type": "code",
   "execution_count": 16,
   "metadata": {},
   "outputs": [
    {
     "name": "stderr",
     "output_type": "stream",
     "text": [
      "/home/albert/anaconda3/lib/python3.6/site-packages/torch/nn/functional.py:1374: UserWarning: nn.functional.tanh is deprecated. Use torch.tanh instead.\n",
      "  warnings.warn(\"nn.functional.tanh is deprecated. Use torch.tanh instead.\")\n"
     ]
    },
    {
     "data": {
      "text/plain": [
       "['我还爱你',\n",
       " '所有爱情都是误会',\n",
       " '我不要冷静让你看我',\n",
       " '我不愿在乎你的错的',\n",
       " '这就是我一直在等待',\n",
       " '这是我们的命运',\n",
       " '我们这首歌我们都在想了',\n",
       " '原来最想的都能拥抱',\n",
       " '我一直在你的身边',\n",
       " '为你祈祷',\n",
       " '在我的眼里是你的讯息',\n",
       " '幸福的警告我和你一样',\n",
       " '因为爱让我们慢慢被改变',\n",
       " '手心拖在下一秒',\n",
       " '却怪我的影子',\n",
       " '怎么都遗忘',\n",
       " '我思念不停',\n",
       " '我在祈祷着你的回答',\n",
       " '想象你的世界',\n",
       " '能自由的都成真实']"
      ]
     },
     "execution_count": 16,
     "metadata": {},
     "output_type": "execute_result"
    }
   ],
   "source": [
    "song = generator(\"小幸运\")\n",
    "song"
   ]
  },
  {
   "cell_type": "code",
   "execution_count": null,
   "metadata": {
    "collapsed": true
   },
   "outputs": [],
   "source": []
  }
 ],
 "metadata": {
  "kernelspec": {
   "display_name": "Python 3",
   "language": "python",
   "name": "python3"
  },
  "language_info": {
   "codemirror_mode": {
    "name": "ipython",
    "version": 3
   },
   "file_extension": ".py",
   "mimetype": "text/x-python",
   "name": "python",
   "nbconvert_exporter": "python",
   "pygments_lexer": "ipython3",
   "version": "3.6.8"
  }
 },
 "nbformat": 4,
 "nbformat_minor": 2
}
