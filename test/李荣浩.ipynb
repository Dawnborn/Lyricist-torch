{
 "cells": [
  {
   "cell_type": "code",
   "execution_count": 1,
   "metadata": {
    "collapsed": true
   },
   "outputs": [],
   "source": [
    "import sys\n",
    "import random\n",
    "sys.path.append(\"..\")\n",
    "from data import Lyric\n",
    "from utils import model"
   ]
  },
  {
   "cell_type": "code",
   "execution_count": 2,
   "metadata": {},
   "outputs": [
    {
     "name": "stderr",
     "output_type": "stream",
     "text": [
      "Building prefix dict from the default dictionary ...\n",
      "Loading model from cache /tmp/jieba.cache\n",
      "Loading model cost 0.421 seconds.\n",
      "Prefix dict has been built succesfully.\n"
     ]
    }
   ],
   "source": [
    "dataset = Lyric(batch_size=128, fix_length=32, target_vocab_size=10000)\n",
    "net = model(dataset, model_name=\"李荣浩_50.pkl\", train=False)"
   ]
  },
  {
   "cell_type": "code",
   "execution_count": 3,
   "metadata": {
    "collapsed": true
   },
   "outputs": [],
   "source": [
    "def generator(title, total_sentence=20):\n",
    "    encoder_input = dataset.process(title)\n",
    "    song = []\n",
    "    for i in range(total_sentence):\n",
    "        s = []\n",
    "        output = net.predict(encoder_input)\n",
    "        word = dataset.logist2word(output)[0]\n",
    "        if word[0] in dataset.itos[:20] + [s[0] for s in song]:\n",
    "            word = dataset.logist2word(output, topn=3)\n",
    "            word = random.choice(word)\n",
    "        next_input = dataset.stoi[word]\n",
    "        s.append(word)\n",
    "        while word != \"<eos>\":\n",
    "            output = net.next(next_input)\n",
    "            word = dataset.logist2word(output)[0]\n",
    "            next_input = dataset.stoi[word]\n",
    "            s.append(word)\n",
    "        song.append(\"\".join(s[:-1]))\n",
    "        encoder_input = dataset.process(\"\".join(s[:-1]))\n",
    "    return song"
   ]
  },
  {
   "cell_type": "code",
   "execution_count": 6,
   "metadata": {},
   "outputs": [
    {
     "name": "stderr",
     "output_type": "stream",
     "text": [
      "/home/albert/anaconda3/lib/python3.6/site-packages/torch/nn/functional.py:1374: UserWarning: nn.functional.tanh is deprecated. Use torch.tanh instead.\n",
      "  warnings.warn(\"nn.functional.tanh is deprecated. Use torch.tanh instead.\")\n"
     ]
    },
    {
     "data": {
      "text/plain": [
       "['那时候我以为爱的是生活',\n",
       " '我为什么会这样念念又不忘',\n",
       " '就这样就会这样',\n",
       " '怕真相太难看',\n",
       " '我想对爱情还抱有希望',\n",
       " '我们俩就这样',\n",
       " '以为能够为这一人陪',\n",
       " '人在等不去看',\n",
       " '自己的嘴',\n",
       " '我又回到',\n",
       " '每个人的歌和明天',\n",
       " '我也很孤单',\n",
       " '你说的是什么',\n",
       " '我说哎呀',\n",
       " '再过十年我们还是过着今天',\n",
       " '你说哎呀',\n",
       " '一起失眠再一起流泪',\n",
       " '同喝一杯水',\n",
       " '有几次情未分开',\n",
       " '才是这样才是']"
      ]
     },
     "execution_count": 6,
     "metadata": {},
     "output_type": "execute_result"
    }
   ],
   "source": [
    "song = generator(\"不将就\")\n",
    "song"
   ]
  },
  {
   "cell_type": "code",
   "execution_count": 7,
   "metadata": {
    "scrolled": false
   },
   "outputs": [
    {
     "name": "stderr",
     "output_type": "stream",
     "text": [
      "/home/albert/anaconda3/lib/python3.6/site-packages/torch/nn/functional.py:1374: UserWarning: nn.functional.tanh is deprecated. Use torch.tanh instead.\n",
      "  warnings.warn(\"nn.functional.tanh is deprecated. Use torch.tanh instead.\")\n"
     ]
    },
    {
     "data": {
      "text/plain": [
       "['茫茫时空蔚蓝星球埋藏过往一段',\n",
       " '一轮明月照出的是光明和呐喊',\n",
       " '太阳光辉背后藏着深不见底的黑暗',\n",
       " '无穷的力量掩盖的是可笑的背叛',\n",
       " '英雄只能英雄都是一种鼓励',\n",
       " '多少灯亮到现在我们都不懂',\n",
       " '你的眼睛我的眼睛是一道伤痕累累',\n",
       " '简单的音符就越简单',\n",
       " '我知道你不喜欢什么',\n",
       " '听你说的是谁的另一个',\n",
       " '像诗说的就是什么',\n",
       " '现在你算了我知道',\n",
       " '因为你的好我还是',\n",
       " '你的我',\n",
       " '我为什么会这样念念又不忘',\n",
       " '就这样就会这样',\n",
       " '怕真相太难看',\n",
       " '我想对爱情还抱有希望',\n",
       " '反正你也没差',\n",
       " '我想我']"
      ]
     },
     "execution_count": 7,
     "metadata": {},
     "output_type": "execute_result"
    }
   ],
   "source": [
    "song = generator(\"李白\")\n",
    "song"
   ]
  },
  {
   "cell_type": "code",
   "execution_count": 13,
   "metadata": {},
   "outputs": [
    {
     "name": "stderr",
     "output_type": "stream",
     "text": [
      "/home/albert/anaconda3/lib/python3.6/site-packages/torch/nn/functional.py:1374: UserWarning: nn.functional.tanh is deprecated. Use torch.tanh instead.\n",
      "  warnings.warn(\"nn.functional.tanh is deprecated. Use torch.tanh instead.\")\n"
     ]
    },
    {
     "data": {
      "text/plain": [
       "['你说过的歌我还能写',\n",
       " '你说过的过我是一场',\n",
       " '我这样担心',\n",
       " '可能没有放弃',\n",
       " '该不该看你',\n",
       " '为了什么我要知道',\n",
       " '婚礼的我有多美',\n",
       " '假如我年有天我不懂得',\n",
       " '天也会老',\n",
       " '就这样就这样',\n",
       " '怕真相太难看',\n",
       " '我想对爱情还抱有希望',\n",
       " '反正你也没差',\n",
       " '也为了我',\n",
       " '我为什么会这样念念又不忘',\n",
       " '你用什么牌的箭',\n",
       " '也没听懂你笑话',\n",
       " '你说我显得不搭',\n",
       " '你说的对我也不搭',\n",
       " '快让我在雪地上撒点儿野']"
      ]
     },
     "execution_count": 13,
     "metadata": {},
     "output_type": "execute_result"
    }
   ],
   "source": [
    "song = generator(\"演员\")\n",
    "song"
   ]
  },
  {
   "cell_type": "code",
   "execution_count": 29,
   "metadata": {},
   "outputs": [
    {
     "name": "stderr",
     "output_type": "stream",
     "text": [
      "/home/albert/anaconda3/lib/python3.6/site-packages/torch/nn/functional.py:1374: UserWarning: nn.functional.tanh is deprecated. Use torch.tanh instead.\n",
      "  warnings.warn(\"nn.functional.tanh is deprecated. Use torch.tanh instead.\")\n"
     ]
    },
    {
     "data": {
      "text/plain": [
       "['我听说对不起',\n",
       " '都算是个约定',\n",
       " '能不能在一起',\n",
       " '那些美梦',\n",
       " '太多的伤',\n",
       " '大了就这样',\n",
       " '好像没什么都是',\n",
       " '有时候也不想了',\n",
       " '我还是这样',\n",
       " '多久我一起过',\n",
       " '有了你会明白',\n",
       " '在一开始多想',\n",
       " '爸爸妈妈总说经历',\n",
       " '我们都很悲伤',\n",
       " '大太阳有多美',\n",
       " '知道了你的时候',\n",
       " '还是会记得',\n",
       " '我的心里',\n",
       " '到了几年了这首歌',\n",
       " '你就像那一点点的回忆']"
      ]
     },
     "execution_count": 29,
     "metadata": {},
     "output_type": "execute_result"
    }
   ],
   "source": [
    "song = generator(\"十年\")\n",
    "song"
   ]
  },
  {
   "cell_type": "code",
   "execution_count": null,
   "metadata": {
    "collapsed": true
   },
   "outputs": [],
   "source": []
  }
 ],
 "metadata": {
  "kernelspec": {
   "display_name": "Python 3",
   "language": "python",
   "name": "python3"
  },
  "language_info": {
   "codemirror_mode": {
    "name": "ipython",
    "version": 3
   },
   "file_extension": ".py",
   "mimetype": "text/x-python",
   "name": "python",
   "nbconvert_exporter": "python",
   "pygments_lexer": "ipython3",
   "version": "3.6.8"
  }
 },
 "nbformat": 4,
 "nbformat_minor": 2
}
