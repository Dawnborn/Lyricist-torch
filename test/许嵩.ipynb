{
 "cells": [
  {
   "cell_type": "code",
   "execution_count": 1,
   "metadata": {
    "collapsed": true
   },
   "outputs": [],
   "source": [
    "import sys\n",
    "import random\n",
    "sys.path.append(\"..\")\n",
    "from data import Lyric\n",
    "from utils import model"
   ]
  },
  {
   "cell_type": "code",
   "execution_count": 2,
   "metadata": {},
   "outputs": [
    {
     "name": "stderr",
     "output_type": "stream",
     "text": [
      "Building prefix dict from the default dictionary ...\n",
      "Loading model from cache /tmp/jieba.cache\n",
      "Loading model cost 0.463 seconds.\n",
      "Prefix dict has been built succesfully.\n"
     ]
    }
   ],
   "source": [
    "dataset = Lyric(batch_size=128, fix_length=32, target_vocab_size=10000)\n",
    "net = model(dataset, model_name=\"许嵩_50.pkl\", train=False)"
   ]
  },
  {
   "cell_type": "code",
   "execution_count": 3,
   "metadata": {
    "collapsed": true
   },
   "outputs": [],
   "source": [
    "def generator(title, total_sentence=20):\n",
    "    encoder_input = dataset.process(title)\n",
    "    song = []\n",
    "    for i in range(total_sentence):\n",
    "        s = []\n",
    "        output = net.predict(encoder_input)\n",
    "        word = dataset.logist2word(output)[0]\n",
    "        if word[0] in dataset.itos[:20] + [s[0] for s in song]:\n",
    "            word = dataset.logist2word(output, topn=3)\n",
    "            word = random.choice(word)\n",
    "        next_input = dataset.stoi[word]\n",
    "        s.append(word)\n",
    "        while word != \"<eos>\":\n",
    "            output = net.next(next_input)\n",
    "            word = dataset.logist2word(output)[0]\n",
    "            next_input = dataset.stoi[word]\n",
    "            s.append(word)\n",
    "        song.append(\"\".join(s[:-1]))\n",
    "        encoder_input = dataset.process(\"\".join(s[:-1]))\n",
    "    return song"
   ]
  },
  {
   "cell_type": "code",
   "execution_count": 5,
   "metadata": {},
   "outputs": [
    {
     "name": "stderr",
     "output_type": "stream",
     "text": [
      "/home/albert/anaconda3/lib/python3.6/site-packages/torch/nn/functional.py:1374: UserWarning: nn.functional.tanh is deprecated. Use torch.tanh instead.\n",
      "  warnings.warn(\"nn.functional.tanh is deprecated. Use torch.tanh instead.\")\n"
     ]
    },
    {
     "data": {
      "text/plain": [
       "['往事入纷飞',\n",
       " '当我们丢失了回忆',\n",
       " '爱情很深都是疼了',\n",
       " '谁说你也不懂那种',\n",
       " '太多的无奈已被瓦解',\n",
       " '爱情的生活',\n",
       " '是你让我不敢想象',\n",
       " '是你让我感觉',\n",
       " '有的风雨',\n",
       " '我和你一样',\n",
       " '永远不会过去',\n",
       " '只留我的温柔',\n",
       " '哪里会有',\n",
       " '一个人听歌',\n",
       " '有一些烦恼',\n",
       " '我想不想一直喜欢',\n",
       " '没什么爱情不知道',\n",
       " '何必总是活',\n",
       " '一人就太冰凉',\n",
       " '偷偷看你的微博']"
      ]
     },
     "execution_count": 5,
     "metadata": {},
     "output_type": "execute_result"
    }
   ],
   "source": [
    "song = generator(\"清明庐州月\")\n",
    "song"
   ]
  },
  {
   "cell_type": "code",
   "execution_count": 6,
   "metadata": {
    "scrolled": false
   },
   "outputs": [
    {
     "name": "stderr",
     "output_type": "stream",
     "text": [
      "/home/albert/anaconda3/lib/python3.6/site-packages/torch/nn/functional.py:1374: UserWarning: nn.functional.tanh is deprecated. Use torch.tanh instead.\n",
      "  warnings.warn(\"nn.functional.tanh is deprecated. Use torch.tanh instead.\")\n"
     ]
    },
    {
     "data": {
      "text/plain": [
       "['埋葬深深爱着的你',\n",
       " '残朵停止呼吸',\n",
       " '渗入大地',\n",
       " '没人会注意',\n",
       " '一片小雨滴',\n",
       " '陪着我等天明',\n",
       " '去看你的躯体',\n",
       " '你知不知道我默默',\n",
       " '也曾为你添起那些歌声',\n",
       " '半去你倚在我的身边',\n",
       " '你在那心里不遥远',\n",
       " '没有你身旁我和你',\n",
       " '没有觉得你的不多',\n",
       " '你的城府我的温柔',\n",
       " '却又有时变得更陌生',\n",
       " '想着一个人的时候',\n",
       " '翻着你的地图上了时间',\n",
       " '有没有什么',\n",
       " '是我的好歌',\n",
       " '最爱的时候']"
      ]
     },
     "execution_count": 6,
     "metadata": {},
     "output_type": "execute_result"
    }
   ],
   "source": [
    "song = generator(\"玫瑰花的葬礼\")\n",
    "song"
   ]
  },
  {
   "cell_type": "code",
   "execution_count": 8,
   "metadata": {},
   "outputs": [
    {
     "name": "stderr",
     "output_type": "stream",
     "text": [
      "/home/albert/anaconda3/lib/python3.6/site-packages/torch/nn/functional.py:1374: UserWarning: nn.functional.tanh is deprecated. Use torch.tanh instead.\n",
      "  warnings.warn(\"nn.functional.tanh is deprecated. Use torch.tanh instead.\")\n"
     ]
    },
    {
     "data": {
      "text/plain": [
       "['别等到全球已被人带走',\n",
       " '会不会再寂寞',\n",
       " '你说的不多',\n",
       " '你说就会不会再来',\n",
       " '爱就会多一点点',\n",
       " '我也没那种喜欢你的心',\n",
       " '我很喜欢你你的爱',\n",
       " '我喜欢的感觉你',\n",
       " '你说的那书上',\n",
       " '我在那城市和你徜徉',\n",
       " '你在我心里',\n",
       " '我在你的世界',\n",
       " '没有你的方向',\n",
       " '爱情的世界没有人那么',\n",
       " '总是会记得总是把人遗忘',\n",
       " '你说的不是真心本是我的',\n",
       " '我说你是一盏的让你把我遗忘',\n",
       " '这是我的梦想',\n",
       " '这个世界是那么风景',\n",
       " '我的心被你推翻']"
      ]
     },
     "execution_count": 8,
     "metadata": {},
     "output_type": "execute_result"
    }
   ],
   "source": [
    "song = generator(\"烟花易冷\")\n",
    "song"
   ]
  },
  {
   "cell_type": "code",
   "execution_count": 9,
   "metadata": {},
   "outputs": [
    {
     "name": "stderr",
     "output_type": "stream",
     "text": [
      "/home/albert/anaconda3/lib/python3.6/site-packages/torch/nn/functional.py:1374: UserWarning: nn.functional.tanh is deprecated. Use torch.tanh instead.\n",
      "  warnings.warn(\"nn.functional.tanh is deprecated. Use torch.tanh instead.\")\n"
     ]
    },
    {
     "data": {
      "text/plain": [
       "['我们曾在这里等你的徜徉',\n",
       " '和我去寻找',\n",
       " '最佳的旅程',\n",
       " '我想你已经化成天使',\n",
       " '张开双翅是哭着离开的',\n",
       " '有太多的不舍太多不舍',\n",
       " '永久成遗憾了',\n",
       " '我们在这里',\n",
       " '我不会装酷',\n",
       " '你们的笑不是那么喜欢',\n",
       " '谁的爱已不是我的',\n",
       " '我们沉默也许在哪里',\n",
       " '你的过去还是在我身边',\n",
       " '快乐的我在一起走到一起',\n",
       " '这是爱的生命',\n",
       " '我是爱你是谁',\n",
       " '你是谁我是你的',\n",
       " '我们应该不会不同',\n",
       " '朋友说我很想说你自己',\n",
       " '朋友说最近有些问题']"
      ]
     },
     "execution_count": 9,
     "metadata": {},
     "output_type": "execute_result"
    }
   ],
   "source": [
    "song = generator(\"江南\")\n",
    "song"
   ]
  },
  {
   "cell_type": "code",
   "execution_count": 11,
   "metadata": {},
   "outputs": [
    {
     "name": "stderr",
     "output_type": "stream",
     "text": [
      "/home/albert/anaconda3/lib/python3.6/site-packages/torch/nn/functional.py:1374: UserWarning: nn.functional.tanh is deprecated. Use torch.tanh instead.\n",
      "  warnings.warn(\"nn.functional.tanh is deprecated. Use torch.tanh instead.\")\n"
     ]
    },
    {
     "data": {
      "text/plain": [
       "['好的时候',\n",
       " '已拉着你的手',\n",
       " '不想你的脸',\n",
       " '我和你曾经都是一句',\n",
       " '我想你已经化成天使',\n",
       " '张开双翅是哭着离开的',\n",
       " '这短暂的旅程温暖缤纷',\n",
       " '梦里有爸妈疼你的样子',\n",
       " '你去的地方很远',\n",
       " '我的爱落幕',\n",
       " '你还爱我',\n",
       " '我说爱过了你的心',\n",
       " '花开后就会紧张',\n",
       " '有过的地方',\n",
       " '你的城府已经冷漠',\n",
       " '我的心还在你的世界',\n",
       " '这出眼神和枯萎',\n",
       " '你和我的旅途',\n",
       " '有了你的时间',\n",
       " '一星期你就会跳动']"
      ]
     },
     "execution_count": 11,
     "metadata": {},
     "output_type": "execute_result"
    }
   ],
   "source": [
    "song = generator(\"菊花台\")\n",
    "song"
   ]
  }
 ],
 "metadata": {
  "kernelspec": {
   "display_name": "Python 3",
   "language": "python",
   "name": "python3"
  },
  "language_info": {
   "codemirror_mode": {
    "name": "ipython",
    "version": 3
   },
   "file_extension": ".py",
   "mimetype": "text/x-python",
   "name": "python",
   "nbconvert_exporter": "python",
   "pygments_lexer": "ipython3",
   "version": "3.6.8"
  }
 },
 "nbformat": 4,
 "nbformat_minor": 2
}
